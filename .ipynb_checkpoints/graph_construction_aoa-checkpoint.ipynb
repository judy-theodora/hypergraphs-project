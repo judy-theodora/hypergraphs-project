{
 "cells": [
  {
   "cell_type": "markdown",
   "id": "9c88ed7e",
   "metadata": {},
   "source": [
    "# To use:\n",
    "Execute the blocks below to import required modules and load the word association data, and age of acquisition data."
   ]
  },
  {
   "cell_type": "code",
   "execution_count": 29,
   "id": "1f879e32",
   "metadata": {},
   "outputs": [],
   "source": [
    "# import required libs\n",
    "import warnings\n",
    "warnings.simplefilter(action='ignore', category=FutureWarning)\n",
    "import networkx as nx\n",
    "import pickle\n",
    "import pandas as pd\n",
    "from time import time\n",
    "from copy import copy\n",
    "from csv import reader"
   ]
  },
  {
   "cell_type": "code",
   "execution_count": 30,
   "id": "1e17e3db",
   "metadata": {},
   "outputs": [],
   "source": [
    "# load in the word data (small world of words dataset)\n",
    "with open('data/4plets_filtered.csv', 'r', encoding='utf-8') as f:\n",
    "    csv_reader = reader(f)\n",
    "    word_data = list(csv_reader)"
   ]
  },
  {
   "cell_type": "code",
   "execution_count": 31,
   "id": "6661c130",
   "metadata": {},
   "outputs": [],
   "source": [
    "# load in the age of acquisition data\n",
    "with open('data/aoa.csv', 'r', encoding='utf-8') as f:\n",
    "    csv_reader = reader(f)\n",
    "    age_data = list(csv_reader)"
   ]
  },
  {
   "cell_type": "markdown",
   "id": "c6e8c751",
   "metadata": {},
   "source": [
    "## Extract list of unique words from word_data (SWoW)"
   ]
  },
  {
   "cell_type": "code",
   "execution_count": 32,
   "id": "2d2b9715",
   "metadata": {},
   "outputs": [],
   "source": [
    "# add every word from every row to a list\n",
    "words_swow = []\n",
    "for row in word_data:\n",
    "    words_swow += row\n",
    "# take the set of the list to find every unique word in the SWOW dataset\n",
    "words_swow = set(words_swow)"
   ]
  },
  {
   "cell_type": "markdown",
   "id": "3791dac9",
   "metadata": {},
   "source": [
    "## Filter word data to age<=9"
   ]
  },
  {
   "cell_type": "code",
   "execution_count": 33,
   "id": "1c7894e0",
   "metadata": {},
   "outputs": [],
   "source": [
    "# add age of acquisition data to a pandas dataframe\n",
    "gdata = pd.DataFrame(data=age_data, columns=['word','logfreq','age'])\n",
    "\n",
    "# convert logfreq and age from strings to floats\n",
    "gdata[[\"logfreq\", \"age\"]] = gdata[[\"logfreq\", \"age\"]].apply(pd.to_numeric)"
   ]
  },
  {
   "cell_type": "code",
   "execution_count": 34,
   "id": "9cf84b6e",
   "metadata": {},
   "outputs": [],
   "source": [
    "#filter out all words learnt after age 9\n",
    "gdata_9 = gdata[gdata['age']<=9]"
   ]
  },
  {
   "cell_type": "code",
   "execution_count": 35,
   "id": "045ce006",
   "metadata": {},
   "outputs": [],
   "source": [
    "# extract a list of words included in the 'age of acquisition' (AOA) dataset\n",
    "words_aoa = set(gdata_9['word'])"
   ]
  },
  {
   "cell_type": "code",
   "execution_count": 36,
   "id": "c9c07e3c",
   "metadata": {},
   "outputs": [],
   "source": [
    "#take cross section of words from swow dataset and words from the AOA dataset\n",
    "words = words_swow & words_aoa"
   ]
  },
  {
   "cell_type": "code",
   "execution_count": 42,
   "id": "1e0e32f8",
   "metadata": {},
   "outputs": [],
   "source": [
    "# remove words from the dataframe which dont appear in the word association data\n",
    "for w in gdata_9['word']:\n",
    "    if w not in words:\n",
    "        gdata_9.drop(gdata_9.loc[gdata_9['word']==w].index, inplace=True)"
   ]
  },
  {
   "cell_type": "markdown",
   "id": "31650214",
   "metadata": {},
   "source": [
    "The block below removes all rows from the word association data that contain words that are NOT included in the AOA dataset.  \n",
    "i.e. it removes words which will not have age data associated.  \n",
    "**!!This block can take some considerable time to run (>45 minutes)!!**  \n",
    "To mitigate this, execute the block under the heading \"**Load word association Data**\"."
   ]
  },
  {
   "cell_type": "code",
   "execution_count": 10,
   "id": "676ad618",
   "metadata": {},
   "outputs": [
    {
     "ename": "KeyboardInterrupt",
     "evalue": "",
     "output_type": "error",
     "traceback": [
      "\u001b[1;31m---------------------------------------------------------------------------\u001b[0m",
      "\u001b[1;31mKeyboardInterrupt\u001b[0m                         Traceback (most recent call last)",
      "Input \u001b[1;32mIn [10]\u001b[0m, in \u001b[0;36m<cell line: 4>\u001b[1;34m()\u001b[0m\n\u001b[0;32m      4\u001b[0m \u001b[38;5;28;01mfor\u001b[39;00m r \u001b[38;5;129;01min\u001b[39;00m word_data_copy:\n\u001b[0;32m      5\u001b[0m     \u001b[38;5;28;01mif\u001b[39;00m \u001b[38;5;28mlen\u001b[39m(\u001b[38;5;28mset\u001b[39m(r) \u001b[38;5;241m&\u001b[39m words) \u001b[38;5;241m!=\u001b[39m \u001b[38;5;241m4\u001b[39m:\n\u001b[1;32m----> 6\u001b[0m         word_data\u001b[38;5;241m.\u001b[39mremove(r)\n\u001b[0;32m      7\u001b[0m \u001b[38;5;28mprint\u001b[39m(time()\u001b[38;5;241m-\u001b[39ma)\n",
      "\u001b[1;31mKeyboardInterrupt\u001b[0m: "
     ]
    }
   ],
   "source": [
    "a=time()\n",
    "# remove rows from word association data\n",
    "word_data_copy = copy(word_data)\n",
    "for r in word_data_copy:\n",
    "    if len(set(r) & words) != 4:\n",
    "        word_data.remove(r)\n",
    "print(time()-a)"
   ]
  },
  {
   "cell_type": "code",
   "execution_count": 38,
   "id": "fa5edd58",
   "metadata": {},
   "outputs": [
    {
     "name": "stdout",
     "output_type": "stream",
     "text": [
      "543792\n"
     ]
    }
   ],
   "source": [
    "# print number of 4-word association rows\n",
    "print(len(word_data))"
   ]
  },
  {
   "cell_type": "markdown",
   "id": "e2c282c5",
   "metadata": {},
   "source": [
    "## Save word association data\n",
    "(in markup block so no important data is overwritten)"
   ]
  },
  {
   "cell_type": "markdown",
   "id": "44533a78",
   "metadata": {},
   "source": [
    "`with open('./pickle/word_data_aoa_9.p','wb') as f:\n",
    "    pickle.dump(word_data,f)`"
   ]
  },
  {
   "cell_type": "markdown",
   "id": "cd714b28",
   "metadata": {},
   "source": [
    "## Load word association data"
   ]
  },
  {
   "cell_type": "code",
   "execution_count": 44,
   "id": "2c366787",
   "metadata": {},
   "outputs": [],
   "source": [
    "word_data_9 = pickle.load(open('./pickle/word_data_aoa_9.p','rb'))"
   ]
  },
  {
   "cell_type": "markdown",
   "id": "6eb00a43",
   "metadata": {},
   "source": [
    "## Construct pairwise graph\n",
    "And calculate degrees + centralities"
   ]
  },
  {
   "cell_type": "code",
   "execution_count": 45,
   "id": "7907a8a7",
   "metadata": {},
   "outputs": [],
   "source": [
    "def edge_convert(e):\n",
    "    # return list of edge tuples such that the cue word is the centre of connection\n",
    "    # e.g. edge_convert(['color', 'yellow', 'red', 'blue']) -> [('color', 'yellow'), ('color', 'red'), ('color', 'blue')]\n",
    "    ret = [(e[0],i) for i in e[1:]]\n",
    "    return ret"
   ]
  },
  {
   "cell_type": "code",
   "execution_count": 46,
   "id": "8b80782a",
   "metadata": {},
   "outputs": [],
   "source": [
    "#compile a list of pairwise edges\n",
    "edges = []\n",
    "for r in word_data:\n",
    "    edges += edge_convert(r)"
   ]
  },
  {
   "cell_type": "code",
   "execution_count": 47,
   "id": "b650e9d2",
   "metadata": {},
   "outputs": [],
   "source": [
    "#build graph with the pairwise edge connections\n",
    "GT = nx.Graph(edges)"
   ]
  },
  {
   "cell_type": "code",
   "execution_count": 48,
   "id": "ecfb5893",
   "metadata": {},
   "outputs": [],
   "source": [
    "graph_degrees = dict(GT.degree(GT.nodes))"
   ]
  },
  {
   "cell_type": "code",
   "execution_count": 49,
   "id": "220a2ce2",
   "metadata": {},
   "outputs": [],
   "source": [
    "# remove words from the dataframe which dont appear in the graph\n",
    "word_list = gdata_9['word']\n",
    "for w in word_list:\n",
    "    if w not in GT.nodes:\n",
    "        gdata_9.drop(gdata_9.loc[gdata_9['word']==w].index, inplace=True)"
   ]
  },
  {
   "cell_type": "markdown",
   "id": "7d62aac0",
   "metadata": {},
   "source": [
    "## Arrange Data"
   ]
  },
  {
   "cell_type": "code",
   "execution_count": 51,
   "id": "ccfdcbc1",
   "metadata": {
    "scrolled": true
   },
   "outputs": [
    {
     "name": "stderr",
     "output_type": "stream",
     "text": [
      "C:\\Users\\jwarn\\AppData\\Local\\Temp\\ipykernel_6020\\141033207.py:1: SettingWithCopyWarning: \n",
      "A value is trying to be set on a copy of a slice from a DataFrame.\n",
      "Try using .loc[row_indexer,col_indexer] = value instead\n",
      "\n",
      "See the caveats in the documentation: https://pandas.pydata.org/pandas-docs/stable/user_guide/indexing.html#returning-a-view-versus-a-copy\n",
      "  gdata_9['degree'] = gdata_9['word'].map(graph_degrees) # add degree to df\n"
     ]
    }
   ],
   "source": [
    "gdata_9['degree'] = gdata_9['word'].map(graph_degrees) # add degree to df"
   ]
  },
  {
   "cell_type": "code",
   "execution_count": 52,
   "id": "e8e89c3c",
   "metadata": {},
   "outputs": [],
   "source": [
    "word_lens = {}\n",
    "for word in words:\n",
    "    word_lens[word] = len(word)"
   ]
  },
  {
   "cell_type": "code",
   "execution_count": 53,
   "id": "44d97e4a",
   "metadata": {},
   "outputs": [
    {
     "name": "stderr",
     "output_type": "stream",
     "text": [
      "C:\\Users\\jwarn\\AppData\\Local\\Temp\\ipykernel_6020\\3103047917.py:1: SettingWithCopyWarning: \n",
      "A value is trying to be set on a copy of a slice from a DataFrame.\n",
      "Try using .loc[row_indexer,col_indexer] = value instead\n",
      "\n",
      "See the caveats in the documentation: https://pandas.pydata.org/pandas-docs/stable/user_guide/indexing.html#returning-a-view-versus-a-copy\n",
      "  gdata_9['len'] = gdata_9['word'].map(word_lens)\n"
     ]
    }
   ],
   "source": [
    "gdata_9['len'] = gdata_9['word'].map(word_lens) "
   ]
  },
  {
   "cell_type": "code",
   "execution_count": 54,
   "id": "845a1b1f",
   "metadata": {},
   "outputs": [],
   "source": [
    "gdata_9 = gdata_9.dropna()\n",
    "gdata_9.reset_index(inplace=True)"
   ]
  },
  {
   "cell_type": "code",
   "execution_count": 136,
   "id": "496008fd",
   "metadata": {},
   "outputs": [],
   "source": [
    "# save gdata to pickle file for use in ml models\n",
    "# gdata_9.to_pickle('./pickle/gdata_aoa.p')"
   ]
  },
  {
   "cell_type": "code",
   "execution_count": null,
   "id": "737f39b9",
   "metadata": {},
   "outputs": [],
   "source": []
  }
 ],
 "metadata": {
  "kernelspec": {
   "display_name": "Python 3 (ipykernel)",
   "language": "python",
   "name": "python3"
  },
  "language_info": {
   "codemirror_mode": {
    "name": "ipython",
    "version": 3
   },
   "file_extension": ".py",
   "mimetype": "text/x-python",
   "name": "python",
   "nbconvert_exporter": "python",
   "pygments_lexer": "ipython3",
   "version": "3.8.8"
  }
 },
 "nbformat": 4,
 "nbformat_minor": 5
}
