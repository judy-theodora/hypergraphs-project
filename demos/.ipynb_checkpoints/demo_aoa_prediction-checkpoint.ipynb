{
 "cells": [
  {
   "cell_type": "markdown",
   "id": "8f7e251d",
   "metadata": {},
   "source": [
    "# init"
   ]
  },
  {
   "cell_type": "code",
   "execution_count": null,
   "id": "9b6d4470",
   "metadata": {},
   "outputs": [],
   "source": [
    "# import required libs\n",
    "import warnings\n",
    "warnings.simplefilter(action='ignore', category=FutureWarning)\n",
    "import matplotlib.pyplot as plt\n",
    "import numpy as np\n",
    "import pandas as pd\n",
    "from copy import copy\n",
    "from sklearn import preprocessing\n",
    "from sklearn.ensemble import RandomForestRegressor\n",
    "from sklearn.metrics import mean_squared_error, r2_score\n",
    "from sklearn.model_selection import train_test_split\n",
    "from scipy.stats import pearsonr, kendalltau\n",
    "from statistics import median, mean"
   ]
  },
  {
   "cell_type": "code",
   "execution_count": null,
   "id": "79ab2cd6",
   "metadata": {},
   "outputs": [],
   "source": [
    "gdata = pd.read_pickle('../pickle/gdata_aoa.p')\n",
    "\n",
    "hdata = pd.read_pickle('../pickle/hdata_aoa.p')"
   ]
  },
  {
   "cell_type": "code",
   "execution_count": null,
   "id": "3f6bfd07",
   "metadata": {},
   "outputs": [],
   "source": [
    "def ranfor(df,train_size=0.8,n_estimators=150,criterion='squared_error',features=['degree','len','logfreq']):\n",
    "    # select features for training\n",
    "    X = df[features]\n",
    "    y = df['age']\n",
    "    # scale the data\n",
    "    scaler = preprocessing.StandardScaler().fit(X)\n",
    "    X_scaled = scaler.transform(X)\n",
    "    # split the data\n",
    "    X_train, X_test, y_train, y_test = train_test_split(X_scaled, y, train_size=train_size)\n",
    "    # train the regressor model\n",
    "    ran_for_reg = RandomForestRegressor(n_estimators=n_estimators,\n",
    "                                    criterion=criterion\n",
    "                                   ).fit(X_train,y_train)\n",
    "    pred = ran_for_reg.predict(X_test)\n",
    "    true = y_test.to_numpy()\n",
    "    return (pred,true)"
   ]
  },
  {
   "cell_type": "code",
   "execution_count": null,
   "id": "fdda5779",
   "metadata": {},
   "outputs": [],
   "source": [
    "def calc_correlations(pred,true):\n",
    "    correlations = {}\n",
    "    correlations['mse'] = mean_squared_error(pred,true)\n",
    "    correlations['ktau'] = kendalltau(pred,true)[0]\n",
    "    correlations['pval-ktau'] = kendalltau(pred,true)[1]\n",
    "    correlations['pearsonr'] = pearsonr(pred,true)[0]\n",
    "    correlations['pval-pearsonr'] = pearsonr(pred,true)[1]\n",
    "    correlations['r2'] = r2_score(true, pred)\n",
    "    return correlations"
   ]
  },
  {
   "cell_type": "code",
   "execution_count": null,
   "id": "009b1131",
   "metadata": {},
   "outputs": [],
   "source": [
    "def pretty_corr(c): # pretty print output from calc_correlations()\n",
    "    print(f\"\"\"\n",
    "    Mean squared error (RMS): \\t{c['mse']:.5f}\\t({(c['mse']**.5):.5})\n",
    "    Kendall Tau: \\t\\t{c['ktau']:.5}\n",
    "    \\tKtau p-value: \\t\\t{c['pval-ktau']:.5}\n",
    "    Pearson's r: \\t\\t{c['pearsonr']:.5}\n",
    "    \\tPearson's r p-value: \\t{c['pval-pearsonr']:.5}\n",
    "    Coef. of determination \\t{c['r2']:.5}\n",
    "    \"\"\")"
   ]
  },
  {
   "cell_type": "code",
   "execution_count": null,
   "id": "21225ad6",
   "metadata": {},
   "outputs": [],
   "source": [
    "def met_avgs(met_list) -> dict: # given a list of dictionaries of metrics, return a dict of their averages\n",
    "    keys = met_list[0].keys()\n",
    "    list_len = len(met_list)\n",
    "    ret_dict = {}\n",
    "    for k in keys:\n",
    "        ret_dict[k] = 0\n",
    "    for d in met_list:\n",
    "        for m in d:\n",
    "            ret_dict[m] += d[m]\n",
    "    for m in ret_dict:\n",
    "        ret_dict[m]/=list_len\n",
    "    \n",
    "    return ret_dict"
   ]
  },
  {
   "cell_type": "markdown",
   "id": "29bc9f19",
   "metadata": {},
   "source": [
    "# Training and Plots"
   ]
  },
  {
   "cell_type": "code",
   "execution_count": null,
   "id": "740ebba1",
   "metadata": {},
   "outputs": [],
   "source": [
    "n_t = 150 # number of trees in the random forest regressor\n",
    "ts = 0.8 # size of the training data in train_test_split"
   ]
  },
  {
   "cell_type": "code",
   "execution_count": null,
   "id": "b8669a99",
   "metadata": {},
   "outputs": [],
   "source": [
    "pairwise_results = ranfor(gdata,n_estimators = n_t, train_size = ts)\n",
    "hypergraph_results = ranfor(hdata,n_estimators = n_t, train_size = ts)"
   ]
  },
  {
   "cell_type": "code",
   "execution_count": null,
   "id": "5bc3a4bb",
   "metadata": {},
   "outputs": [],
   "source": [
    "hyp_pred, hyp_true = hypergraph_results # hypergraph model predicted and true values\n",
    "gra_pred, gra_true = pairwise_results # graph model predicted and true values"
   ]
  },
  {
   "cell_type": "code",
   "execution_count": null,
   "id": "482faef9",
   "metadata": {},
   "outputs": [],
   "source": [
    "hyp_corr = calc_correlations(hyp_pred,hyp_true)"
   ]
  },
  {
   "cell_type": "code",
   "execution_count": null,
   "id": "5156366d",
   "metadata": {},
   "outputs": [],
   "source": [
    "gra_corr = calc_correlations(gra_pred,gra_true)"
   ]
  },
  {
   "cell_type": "code",
   "execution_count": null,
   "id": "5e1a46a8",
   "metadata": {},
   "outputs": [],
   "source": [
    "# Pretty print the correlations\n",
    "print(\"-----------------------------------------\")\n",
    "print(\"Hypergraph ranking correlations:\")\n",
    "pretty_corr(hyp_corr)\n",
    "print(\"-----------------------------------------\")\n",
    "print(\"Pair graph ranking correlations:\")\n",
    "pretty_corr(gra_corr)"
   ]
  },
  {
   "cell_type": "code",
   "execution_count": null,
   "id": "9c382d2e",
   "metadata": {},
   "outputs": [],
   "source": [
    "#get coefficients for line of best fit\n",
    "hm, hb = np.polyfit(hyp_true,hyp_pred,1)\n",
    "gm, gb = np.polyfit(gra_true,gra_pred,1)"
   ]
  },
  {
   "cell_type": "code",
   "execution_count": null,
   "id": "75eb7ee1",
   "metadata": {},
   "outputs": [],
   "source": [
    "_, (ax1, ax2) = plt.subplots(1, 2, dpi=150)\n",
    "\n",
    "ax1.scatter(hyp_true,hyp_pred, c='teal', s=5)\n",
    "\n",
    "#ax1.plot([2.2,8.9],[2.2,8.9],c='b')        # +/- 1 year margin lines\n",
    "#ax1.plot([2.2,8.9],[3.2,9.9],ls='--',c='b')#\n",
    "#ax1.plot([2.2,8.9],[1.2,7.9],ls='--',c='b')#\n",
    "\n",
    "ax1.plot(hyp_true,hm*hyp_true+hb,c='red') # line of best fit\n",
    "ax1.set(xlabel='Empirical Age',ylabel='Predicted Age',title='Hypergraph',\n",
    "        ylim=[2,9],xlim=[1,9],xticks=list(range(1,10)),aspect=1.2)\n",
    "\n",
    "ax2.scatter(gra_true,gra_pred, c='purple', s=5)\n",
    "\n",
    "#ax2.plot([2.2,8.9],[2.2,8.9],c='b')        # +/- 1 year margin lines\n",
    "#ax2.plot([2.2,8.9],[3.2,9.9],ls='--',c='b')#\n",
    "#ax2.plot([2.2,8.9],[1.2,7.9],ls='--',c='b')#\n",
    "\n",
    "ax2.plot(gra_true,gm*gra_true+gb,c='red') # line of best fit\n",
    "\n",
    "ax2.set(xlabel='Empirical Age',title='Pairwise Graph',\n",
    "        ylim=[2,9],xlim=[1,9],xticks=list(range(1,10)),aspect=1.2)"
   ]
  },
  {
   "cell_type": "code",
   "execution_count": null,
   "id": "c39a0d54",
   "metadata": {},
   "outputs": [],
   "source": []
  }
 ],
 "metadata": {
  "kernelspec": {
   "display_name": "Python 3 (ipykernel)",
   "language": "python",
   "name": "python3"
  },
  "language_info": {
   "codemirror_mode": {
    "name": "ipython",
    "version": 3
   },
   "file_extension": ".py",
   "mimetype": "text/x-python",
   "name": "python",
   "nbconvert_exporter": "python",
   "pygments_lexer": "ipython3",
   "version": "3.8.8"
  }
 },
 "nbformat": 4,
 "nbformat_minor": 5
}
