{
 "cells": [
  {
   "cell_type": "code",
   "execution_count": 12,
   "id": "57060623",
   "metadata": {},
   "outputs": [],
   "source": [
    "# import required libs\n",
    "import warnings\n",
    "warnings.simplefilter(action='ignore', category=FutureWarning)\n",
    "import matplotlib.pyplot as plt\n",
    "import pandas as pd\n",
    "import xgboost as xgb\n",
    "import numpy as np\n",
    "from copy import copy\n",
    "from sklearn.metrics import mean_squared_error, ndcg_score, r2_score\n",
    "from sklearn.model_selection import train_test_split\n",
    "from scipy.stats import pearsonr, kendalltau"
   ]
  },
  {
   "cell_type": "code",
   "execution_count": 2,
   "id": "8973a389",
   "metadata": {},
   "outputs": [],
   "source": [
    "hdata_ord = pd.read_pickle('../pickle/hyp_data_ranking.p') # read in the data\n",
    "\n",
    "gdata_ord = pd.read_pickle('../pickle/graph_data_ranking.p') # read in the data"
   ]
  },
  {
   "cell_type": "code",
   "execution_count": 3,
   "id": "cd725d32",
   "metadata": {},
   "outputs": [],
   "source": [
    "def xg_hyp(df=hdata_ord,train_size=0.8,learning_rate=0.2,n_estimators=200):\n",
    "    features = ['degree','centrality1','centrality2','centrality3']\n",
    "    X = df[features]\n",
    "    y = df['rank']\n",
    "    X_train, X_test, y_train, y_test = train_test_split(X, y, train_size=train_size)\n",
    "    \n",
    "    model_h = xgb.XGBRanker(  \n",
    "        tree_method='gpu_hist',\n",
    "        booster='gbtree',\n",
    "        objective='rank:pairwise',\n",
    "        #random_state=42, \n",
    "        learning_rate=learning_rate,\n",
    "        colsample_bytree=0.9, \n",
    "        max_depth=15, \n",
    "        n_estimators=n_estimators, \n",
    "        subsample=0.75 \n",
    "        )\n",
    "\n",
    "    model_h.fit(X_train, y_train,group=[int(train_size*497)])\n",
    "\n",
    "    pred = model_h.predict(df[features])\n",
    "    hdata_pred = copy(df[['rank']])\n",
    "    hdata_pred['pred'] = pred\n",
    "    hdata_pred = hdata_pred.sort_values('pred', ascending=False)\n",
    "    hdata_pred['pred_rank'] = range(497,0,-1)\n",
    "    hdata_pred = hdata_pred.sort_values('rank')\n",
    "    return hdata_pred"
   ]
  },
  {
   "cell_type": "code",
   "execution_count": 4,
   "id": "f1154ca9",
   "metadata": {},
   "outputs": [],
   "source": [
    "def xg_pair(df=gdata_ord,train_size=0.8,learning_rate=0.2,n_estimators=200):\n",
    "    gfeatures = ['degree','centrality']\n",
    "    X = df[gfeatures]\n",
    "    y = df['rank']\n",
    "    X_train, X_test, y_train, y_test = train_test_split(X, y, train_size=train_size)\n",
    "    \n",
    "    model_g = xgb.XGBRanker(  \n",
    "        tree_method='gpu_hist',\n",
    "        booster='gbtree', \n",
    "        objective='rank:pairwise',\n",
    "        #random_state=42, \n",
    "        learning_rate=learning_rate,\n",
    "        colsample_bytree=0.9, \n",
    "        max_depth=15, \n",
    "        n_estimators=n_estimators, \n",
    "        subsample=0.75 \n",
    "        )\n",
    "\n",
    "    model_g.fit(X_train, y_train,group=[int(train_size*497)])\n",
    "    \n",
    "    gpred = model_g.predict(df[gfeatures])\n",
    "    gdata_pred = copy(df[['rank']])\n",
    "    gdata_pred['pred'] = gpred\n",
    "    gdata_pred = gdata_pred.sort_values('pred',ascending=False)\n",
    "    gdata_pred['pred_rank'] = range(497,0,-1)\n",
    "    gdata_pred = gdata_pred.sort_values('rank')\n",
    "    return gdata_pred"
   ]
  },
  {
   "cell_type": "code",
   "execution_count": 5,
   "id": "679fea60",
   "metadata": {},
   "outputs": [],
   "source": [
    "def corr(df) -> dict:\n",
    "\n",
    "    rank = df['rank']\n",
    "\n",
    "    pred_rank = df['pred_rank']\n",
    "\n",
    "    correlations = {}\n",
    "\n",
    "    correlations['mse'] = mean_squared_error([rank],[pred_rank])\n",
    "\n",
    "    correlations['ndcg'] = ndcg_score([rank],[pred_rank])\n",
    "\n",
    "    correlations['ktau'] = kendalltau(pred_rank,list(range(1,498)))[0]\n",
    "\n",
    "    correlations['pval-ktau'] = kendalltau(pred_rank,list(range(1,498)))[1]\n",
    "\n",
    "    correlations['pearsonr'] = pearsonr(rank,pred_rank)[0]\n",
    "\n",
    "    correlations['pval-pearsonr'] = pearsonr(rank,pred_rank)[1]\n",
    "    \n",
    "    correlations['r2'] = r2_score(rank, pred_rank)\n",
    "\n",
    "    return correlations"
   ]
  },
  {
   "cell_type": "code",
   "execution_count": 6,
   "id": "be1e31ee",
   "metadata": {},
   "outputs": [],
   "source": [
    "def pretty_corr(c): # pretty print output from corr()\n",
    "    print(f\"\"\"\n",
    "    Mean squared error (RMS): \\t{c['mse']:.0f} ({c['mse']**.5:.5})\n",
    "    Normalised discounted\n",
    "      cumulative gain: \\t\\t{c['ndcg']:.5}\n",
    "    Kendall Tau: \\t\\t{c['ktau']:.5}\n",
    "    \\tKtau p-value: \\t\\t{c['pval-ktau']:.5}\n",
    "    Pearson's r: \\t\\t{c['pearsonr']:.5}\n",
    "    \\tPearson's r p-value: \\t{c['pval-pearsonr']:.5}\n",
    "    Coef. of determination \\t{c['r2']:.5}\n",
    "    \"\"\")"
   ]
  },
  {
   "cell_type": "code",
   "execution_count": 7,
   "id": "396bbcd5",
   "metadata": {},
   "outputs": [],
   "source": [
    "def met_avgs(met_list) -> dict: # given a list of dictionaries of metrics, return a dict of their averages\n",
    "    keys = met_list[0].keys()\n",
    "    list_len = len(met_list)\n",
    "    ret_dict = {}\n",
    "    for k in keys:\n",
    "        ret_dict[k] = 0\n",
    "    for d in met_list:\n",
    "        for m in d:\n",
    "            ret_dict[m] += d[m]\n",
    "    for m in ret_dict:\n",
    "        ret_dict[m]/=list_len\n",
    "    \n",
    "    return ret_dict"
   ]
  },
  {
   "cell_type": "markdown",
   "id": "0ae19e74",
   "metadata": {},
   "source": [
    "# Training and Plots"
   ]
  },
  {
   "cell_type": "code",
   "execution_count": 8,
   "id": "fc06a3d2",
   "metadata": {},
   "outputs": [],
   "source": [
    "ts = 0.8 # training size\n",
    "lr = 0.2 # learning rate\n",
    "n_t = 150 # n_estimators (number of trees)"
   ]
  },
  {
   "cell_type": "code",
   "execution_count": 13,
   "id": "addef14d",
   "metadata": {},
   "outputs": [],
   "source": [
    "h_pred = xg_hyp(df=hdata_ord,train_size=ts,learning_rate=lr,n_estimators=n_t)\n",
    "g_pred = xg_pair(df=gdata_ord,train_size=ts,learning_rate=lr,n_estimators=n_t)\n",
    "    \n",
    "h_corr = corr(h_pred)\n",
    "g_corr = corr(g_pred)"
   ]
  },
  {
   "cell_type": "code",
   "execution_count": 14,
   "id": "5ae226d1",
   "metadata": {},
   "outputs": [
    {
     "name": "stdout",
     "output_type": "stream",
     "text": [
      "-----------------------------------------\n",
      "Hypergraph ranking correlations:\n",
      "\n",
      "    Mean squared error (RMS): \t7991 (89.394)\n",
      "    Normalised discounted\n",
      "      cumulative gain: \t\t0.98027\n",
      "    Kendall Tau: \t\t0.6745\n",
      "    \tKtau p-value: \t\t7.0901e-112\n",
      "    Pearson's r: \t\t0.80589\n",
      "    \tPearson's r p-value: \t9.3684e-115\n",
      "    Coef. of determination \t0.61178\n",
      "    \n",
      "-----------------------------------------\n",
      "Pair graph ranking correlations:\n",
      "\n",
      "    Mean squared error (RMS): \t15394 (124.07)\n",
      "    Normalised discounted\n",
      "      cumulative gain: \t\t0.96721\n",
      "    Kendall Tau: \t\t0.45356\n",
      "    \tKtau p-value: \t\t1.3109e-51\n",
      "    Pearson's r: \t\t0.62608\n",
      "    \tPearson's r p-value: \t1.8937e-55\n",
      "    Coef. of determination \t0.25216\n",
      "    \n"
     ]
    }
   ],
   "source": [
    "# Pretty print the correlations\n",
    "print(\"-----------------------------------------\")\n",
    "print(\"Hypergraph ranking correlations:\")\n",
    "pretty_corr(h_corr)\n",
    "print(\"-----------------------------------------\")\n",
    "print(\"Pair graph ranking correlations:\")\n",
    "pretty_corr(g_corr)"
   ]
  },
  {
   "cell_type": "code",
   "execution_count": null,
   "id": "aaefbf22",
   "metadata": {},
   "outputs": [],
   "source": []
  },
  {
   "cell_type": "code",
   "execution_count": 15,
   "id": "a7e5720b",
   "metadata": {},
   "outputs": [],
   "source": [
    "#get coefficients for line of best fit\n",
    "hm, hb = np.polyfit(h_pred['rank'],h_pred['pred_rank'],1)\n",
    "gm, gb = np.polyfit(g_pred['rank'],g_pred['pred_rank'],1)"
   ]
  },
  {
   "cell_type": "code",
   "execution_count": 16,
   "id": "a6d11c71",
   "metadata": {},
   "outputs": [
    {
     "data": {
      "text/plain": [
       "[Text(0.5, 0, 'Empirical Rank'), Text(0.5, 1.0, 'Pairwise Graph'), None]"
      ]
     },
     "execution_count": 16,
     "metadata": {},
     "output_type": "execute_result"
    },
    {
     "data": {
      "image/png": "[encoded data removed]",
      "text/plain": [
       "<Figure size 720x480 with 2 Axes>"
      ]
     },
     "metadata": {
      "needs_background": "light"
     },
     "output_type": "display_data"
    }
   ],
   "source": [
    "_, (ax1, ax2) = plt.subplots(1, 2, dpi=120)\n",
    "\n",
    "ax1.scatter(h_pred['rank'],h_pred['pred_rank'], c='teal', s=8)\n",
    "ax1.plot(h_pred['rank'],hm*h_pred['rank']+hb,c='red') # line of best fit \n",
    "ax1.set(xlabel='Empirical Rank',ylabel='Predicted Rank',title='Hypergraph',aspect=1.2)\n",
    "\n",
    "ax2.scatter(g_pred['rank'],g_pred['pred_rank'], c='purple', s=8)\n",
    "ax2.plot(g_pred['rank'],gm*g_pred['rank']+gb,c='red') # line of best fit \n",
    "ax2.set(xlabel='Empirical Rank',title='Pairwise Graph',aspect=1.2)"
   ]
  },
  {
   "cell_type": "code",
   "execution_count": null,
   "id": "776d5637",
   "metadata": {},
   "outputs": [],
   "source": []
  },
  {
   "cell_type": "code",
   "execution_count": null,
   "id": "495576ad",
   "metadata": {},
   "outputs": [],
   "source": []
  },
  {
   "cell_type": "code",
   "execution_count": null,
   "id": "309fbe48",
   "metadata": {},
   "outputs": [],
   "source": []
  },
  {
   "cell_type": "code",
   "execution_count": null,
   "id": "75bd6b7b",
   "metadata": {},
   "outputs": [],
   "source": []
  },
  {
   "cell_type": "code",
   "execution_count": null,
   "id": "7cb17a8a",
   "metadata": {},
   "outputs": [],
   "source": []
  },
  {
   "cell_type": "code",
   "execution_count": null,
   "id": "39a4b4bd",
   "metadata": {},
   "outputs": [],
   "source": []
  },
  {
   "cell_type": "code",
   "execution_count": null,
   "id": "5233c36c",
   "metadata": {},
   "outputs": [],
   "source": []
  }
 ],
 "metadata": {
  "kernelspec": {
   "display_name": "Python 3 (ipykernel)",
   "language": "python",
   "name": "python3"
  },
  "language_info": {
   "codemirror_mode": {
    "name": "ipython",
    "version": 3
   },
   "file_extension": ".py",
   "mimetype": "text/x-python",
   "name": "python",
   "nbconvert_exporter": "python",
   "pygments_lexer": "ipython3",
   "version": "3.8.8"
  }
 },
 "nbformat": 4,
 "nbformat_minor": 5
}
