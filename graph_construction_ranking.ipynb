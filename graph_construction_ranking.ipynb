{
 "cells": [
  {
   "cell_type": "code",
   "execution_count": 1,
   "id": "96388bf0",
   "metadata": {},
   "outputs": [],
   "source": [
    "# import required libs\n",
    "import warnings\n",
    "warnings.simplefilter(action='ignore', category=FutureWarning)\n",
    "import hypernetx as hnx\n",
    "import networkx as nx\n",
    "import pickle\n",
    "import pandas as pd\n",
    "from time import time\n",
    "from csv import reader, writer\n",
    "from copy import deepcopy"
   ]
  },
  {
   "cell_type": "markdown",
   "id": "0b3082e3",
   "metadata": {},
   "source": [
    "## Load in data"
   ]
  },
  {
   "cell_type": "code",
   "execution_count": 2,
   "id": "92d19a21",
   "metadata": {},
   "outputs": [],
   "source": [
    "# load in the word data (small world of words dataset)\n",
    "with open('data/4plets_filtered.csv', 'r', encoding='utf-8') as f:\n",
    "    csv_reader = reader(f)\n",
    "    word_data = list(csv_reader)"
   ]
  },
  {
   "cell_type": "code",
   "execution_count": 3,
   "id": "3969b20a",
   "metadata": {},
   "outputs": [],
   "source": [
    "# load in the age of acquisition data\n",
    "with open('data/aoa.csv', 'r', encoding='utf-8') as f:\n",
    "    csv_reader = reader(f)\n",
    "    age_data = list(csv_reader)"
   ]
  },
  {
   "cell_type": "code",
   "execution_count": 4,
   "id": "fe091652",
   "metadata": {},
   "outputs": [],
   "source": [
    "# load in ordered list of words, ranked by proportion of kids who could reproduce that word\n",
    "with open('data/ordering.txt','r') as f:\n",
    "    csv_reader = reader(f)\n",
    "    ordering_raw = list(csv_reader)"
   ]
  },
  {
   "cell_type": "markdown",
   "id": "429432b9",
   "metadata": {},
   "source": [
    "## Filter word associations to only words that appear in the ranked words list"
   ]
  },
  {
   "cell_type": "code",
   "execution_count": 6,
   "id": "81a85cd4",
   "metadata": {},
   "outputs": [],
   "source": [
    "#unpack ordering.txt list\n",
    "ordering = []\n",
    "for word in ordering_raw:\n",
    "    ordering.append(word[0])"
   ]
  },
  {
   "cell_type": "code",
   "execution_count": 7,
   "id": "558920f0",
   "metadata": {},
   "outputs": [
    {
     "name": "stdout",
     "output_type": "stream",
     "text": [
      "6.256263732910156\n"
     ]
    }
   ],
   "source": [
    "word_data_filtered = []\n",
    "a=time()\n",
    "for row in word_data:\n",
    "    \n",
    "    #in_list = any([word in ordering for word in row])\n",
    "    if len(list(set(row) & set(ordering))) == 4:\n",
    "        word_data_filtered.append(row)\n",
    "print(time()-a)"
   ]
  },
  {
   "cell_type": "code",
   "execution_count": 96,
   "id": "f362f944",
   "metadata": {},
   "outputs": [
    {
     "data": {
      "text/plain": [
       "2649"
      ]
     },
     "execution_count": 96,
     "metadata": {},
     "output_type": "execute_result"
    }
   ],
   "source": [
    "len(word_data_filtered)"
   ]
  },
  {
   "cell_type": "code",
   "execution_count": 10,
   "id": "96ea8ff4",
   "metadata": {},
   "outputs": [],
   "source": [
    "# save word associations\n",
    "#with open('./pickle/word_data_ordering.p','wb') as f:\n",
    "#    pickle.dump(word_data_filtered,f)"
   ]
  },
  {
   "cell_type": "markdown",
   "id": "2c66620a",
   "metadata": {},
   "source": [
    "## Build pairwise graph"
   ]
  },
  {
   "cell_type": "code",
   "execution_count": 97,
   "id": "86ac2712",
   "metadata": {},
   "outputs": [],
   "source": [
    "def edge_convert(e):\n",
    "    # return list of edge tuples such that the cue word is the centre of connection\n",
    "    # e.g. edge_convert(['color', 'yellow', 'red', 'blue']) -> [('color', 'yellow'), ('color', 'red'), ('color', 'blue')]\n",
    "    ret = [(e[0],i) for i in e[1:]]\n",
    "    return ret"
   ]
  },
  {
   "cell_type": "code",
   "execution_count": 98,
   "id": "8bcec1e2",
   "metadata": {},
   "outputs": [],
   "source": [
    "#compile a list of pairwise edges\n",
    "edges = []\n",
    "for r in word_data_filtered:\n",
    "    edges += edge_convert(r)"
   ]
  },
  {
   "cell_type": "code",
   "execution_count": 101,
   "id": "14195610",
   "metadata": {},
   "outputs": [],
   "source": [
    "#build graph with the pairwise edge connections\n",
    "GT = nx.Graph(edges)"
   ]
  },
  {
   "cell_type": "code",
   "execution_count": 102,
   "id": "28c044a7",
   "metadata": {},
   "outputs": [],
   "source": [
    "graph_degrees = dict(GT.degree(GT.nodes))"
   ]
  },
  {
   "cell_type": "code",
   "execution_count": 104,
   "id": "9c00532b",
   "metadata": {},
   "outputs": [],
   "source": [
    "graph_closeness = nx.closeness_centrality(GT)"
   ]
  },
  {
   "cell_type": "markdown",
   "id": "4f514877",
   "metadata": {},
   "source": [
    "## Build hypergraph\n",
    "Note: This may take some time to process"
   ]
  },
  {
   "cell_type": "code",
   "execution_count": 11,
   "id": "160b99e4",
   "metadata": {},
   "outputs": [],
   "source": [
    "word_data_split = []"
   ]
  },
  {
   "cell_type": "code",
   "execution_count": 12,
   "id": "4e1ddaaa",
   "metadata": {},
   "outputs": [],
   "source": [
    "for idx, word_rows in enumerate(word_data_filtered):\n",
    "    word_data_split += [[idx,w] for w in word_rows]"
   ]
  },
  {
   "cell_type": "code",
   "execution_count": 32,
   "id": "539b0552",
   "metadata": {},
   "outputs": [],
   "source": [
    "word_data_frame = pd.DataFrame(word_data_split)"
   ]
  },
  {
   "cell_type": "code",
   "execution_count": 42,
   "id": "e045e196",
   "metadata": {},
   "outputs": [],
   "source": [
    "# construct hypergraph\n",
    "HT = hnx.Hypergraph(word_data_frame)"
   ]
  },
  {
   "cell_type": "markdown",
   "id": "ee16c5a6",
   "metadata": {},
   "source": [
    "## Calculate degrees and s-closeness\n",
    "Note: calculating the centralities takes about 30 seconds on my computer. This may take longer depending on computer resources."
   ]
  },
  {
   "cell_type": "code",
   "execution_count": 43,
   "id": "94af2a38",
   "metadata": {},
   "outputs": [],
   "source": [
    "hypnodes = list(HT.nodes)"
   ]
  },
  {
   "cell_type": "code",
   "execution_count": 45,
   "id": "b38372b5",
   "metadata": {},
   "outputs": [],
   "source": [
    "hgraph_degrees = dict()\n",
    "for node in hypnodes:\n",
    "    hgraph_degrees[node] = HT.degree(node, s=1)"
   ]
  },
  {
   "cell_type": "code",
   "execution_count": 51,
   "id": "b0e91ae0",
   "metadata": {},
   "outputs": [
    {
     "name": "stdout",
     "output_type": "stream",
     "text": [
      "20.267813205718994\n"
     ]
    }
   ],
   "source": [
    "cent1 = hnx.s_closeness_centrality(hyptest,edges=False,s=1)\n",
    "cent2 = hnx.s_closeness_centrality(hyptest,edges=False,s=2)\n",
    "cent3 = hnx.s_closeness_centrality(hyptest,edges=False,s=3)"
   ]
  },
  {
   "cell_type": "markdown",
   "id": "dbea3313",
   "metadata": {},
   "source": [
    "# Construct dataframes"
   ]
  },
  {
   "cell_type": "code",
   "execution_count": 89,
   "id": "cbfc5923",
   "metadata": {},
   "outputs": [],
   "source": [
    "# add age of acquisition data to a pandas dataframe\n",
    "age_data_df = pd.DataFrame(data=age_data, columns=['word','logfreq','age'])\n",
    "\n",
    "# convert logfreq and age from strings to floats\n",
    "age_data_df[[\"logfreq\", \"age\"]] = age_data_df[[\"logfreq\", \"age\"]].apply(pd.to_numeric)"
   ]
  },
  {
   "cell_type": "code",
   "execution_count": 92,
   "id": "c383d506",
   "metadata": {},
   "outputs": [],
   "source": [
    "# convert to dictionaries for easy mapping\n",
    "logfreq_dict = pd.Series(age_data_df.logfreq.values,index=age_data_df.word).to_dict()\n",
    "age_dict = pd.Series(age_data_df.age.values,index=age_data_df.word).to_dict()"
   ]
  },
  {
   "cell_type": "code",
   "execution_count": 105,
   "id": "61678907",
   "metadata": {},
   "outputs": [],
   "source": [
    "# extract list of words that appear in the hypergraph, retaining the original ordering given in the ranked words set\n",
    "words = []\n",
    "for word in ordering:\n",
    "    if word in hypnodes:\n",
    "        words.append(word)"
   ]
  },
  {
   "cell_type": "markdown",
   "id": "667ae851",
   "metadata": {},
   "source": [
    "## (pairwise graph)"
   ]
  },
  {
   "cell_type": "code",
   "execution_count": 106,
   "id": "6f736bb2",
   "metadata": {},
   "outputs": [],
   "source": [
    "gdata = pd.DataFrame()"
   ]
  },
  {
   "cell_type": "code",
   "execution_count": 107,
   "id": "36fb403c",
   "metadata": {},
   "outputs": [],
   "source": [
    "# add all words that are in the graph to a dataframe\n",
    "gdata['word'] = words"
   ]
  },
  {
   "cell_type": "code",
   "execution_count": 108,
   "id": "0e7e712d",
   "metadata": {},
   "outputs": [],
   "source": [
    "gdata['degree'] = gdata['word'].map(graph_degrees)"
   ]
  },
  {
   "cell_type": "code",
   "execution_count": 109,
   "id": "ab604efc",
   "metadata": {},
   "outputs": [],
   "source": [
    "gdata['centrality'] = hdata['word'].map(graph_closeness)"
   ]
  },
  {
   "cell_type": "code",
   "execution_count": 7,
   "id": "a997f19d",
   "metadata": {},
   "outputs": [],
   "source": [
    "gdata['rank'] = list(range(498))[1:]"
   ]
  },
  {
   "cell_type": "code",
   "execution_count": 110,
   "id": "e1f71501",
   "metadata": {},
   "outputs": [],
   "source": [
    "# map age and logfreq into table\n",
    "gdata['logfreq'] = gdata['word'].map(logfreq_dict)\n",
    "gdata['age'] = gdata['word'].map(age_dict)"
   ]
  },
  {
   "cell_type": "code",
   "execution_count": 11,
   "id": "1b28647b",
   "metadata": {},
   "outputs": [],
   "source": [
    "word_lens = {}\n",
    "for word in gdata['word']:\n",
    "    word_lens[word] = len(word)"
   ]
  },
  {
   "cell_type": "code",
   "execution_count": 13,
   "id": "b18dbd2c",
   "metadata": {},
   "outputs": [],
   "source": [
    "gdata['len'] = gdata['word'].map(word_lens) "
   ]
  },
  {
   "cell_type": "code",
   "execution_count": 15,
   "id": "5577962f",
   "metadata": {},
   "outputs": [],
   "source": [
    "#gdata.to_pickle('./pickle/graph_data_ranking.p')"
   ]
  },
  {
   "cell_type": "markdown",
   "id": "0f09275a",
   "metadata": {},
   "source": [
    "## (hypergraph)"
   ]
  },
  {
   "cell_type": "code",
   "execution_count": 113,
   "id": "2d84f469",
   "metadata": {},
   "outputs": [],
   "source": [
    "hdata = pd.DataFrame()"
   ]
  },
  {
   "cell_type": "code",
   "execution_count": 114,
   "id": "d3560f4e",
   "metadata": {},
   "outputs": [],
   "source": [
    "# add all words that are in the hypergraph to a dataframe\n",
    "hdata['word'] = words"
   ]
  },
  {
   "cell_type": "code",
   "execution_count": 115,
   "id": "1a9944ba",
   "metadata": {},
   "outputs": [],
   "source": [
    "hdata['degree'] = hdata['word'].map(hgraph_degrees)"
   ]
  },
  {
   "cell_type": "code",
   "execution_count": 116,
   "id": "ff978ab9",
   "metadata": {},
   "outputs": [],
   "source": [
    "hdata['centrality1'] = hdata['word'].map(cent1)\n",
    "hdata['centrality2'] = hdata['word'].map(cent2)\n",
    "hdata['centrality3'] = hdata['word'].map(cent3)"
   ]
  },
  {
   "cell_type": "code",
   "execution_count": 117,
   "id": "98f42b46",
   "metadata": {},
   "outputs": [],
   "source": [
    "hdata['rank'] = list(range(498))[1:]"
   ]
  },
  {
   "cell_type": "code",
   "execution_count": 118,
   "id": "d1e1812a",
   "metadata": {},
   "outputs": [],
   "source": [
    "# map age and logfreq into table\n",
    "hdata['logfreq'] = hdata['word'].map(logfreq_dict)\n",
    "hdata['age'] = hdata['word'].map(age_dict)"
   ]
  },
  {
   "cell_type": "code",
   "execution_count": 19,
   "id": "5d0b169e",
   "metadata": {},
   "outputs": [],
   "source": [
    "word_lens = {}\n",
    "for word in hdata['word']:\n",
    "    word_lens[word] = len(word)"
   ]
  },
  {
   "cell_type": "code",
   "execution_count": 23,
   "id": "fd6ca054",
   "metadata": {},
   "outputs": [],
   "source": [
    "hdata['len'] = hdata['word'].map(word_lens) "
   ]
  },
  {
   "cell_type": "code",
   "execution_count": 22,
   "id": "7453e3b5",
   "metadata": {},
   "outputs": [],
   "source": [
    "#hdata.to_pickle('./pickle/hyp_data_ranking.p')"
   ]
  }
 ],
 "metadata": {
  "kernelspec": {
   "display_name": "Python 3 (ipykernel)",
   "language": "python",
   "name": "python3"
  },
  "language_info": {
   "codemirror_mode": {
    "name": "ipython",
    "version": 3
   },
   "file_extension": ".py",
   "mimetype": "text/x-python",
   "name": "python",
   "nbconvert_exporter": "python",
   "pygments_lexer": "ipython3",
   "version": "3.8.8"
  }
 },
 "nbformat": 4,
 "nbformat_minor": 5
}
